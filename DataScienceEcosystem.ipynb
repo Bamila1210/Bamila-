{
 "cells": [
  {
   "cell_type": "markdown",
   "id": "f9c2be20-8729-4937-8d12-4c93c79b3634",
   "metadata": {},
   "source": [
    "# Data Science Tools and Ecosystem"
   ]
  },
  {
   "cell_type": "markdown",
   "id": "2c05e8fb-33a9-414b-8a8a-c2427ff439ba",
   "metadata": {},
   "source": [
    "In this notebook, Data Science Tools and Ecosystem are summarized."
   ]
  },
  {
   "cell_type": "markdown",
   "id": "3503f689-8fa4-46b1-9312-f5a5550338a9",
   "metadata": {},
   "source": [
    "**Popular Languages for Data Science**"
   ]
  },
  {
   "cell_type": "markdown",
   "id": "bd2324d0-d5d8-43ec-a49e-b8eed9a420f6",
   "metadata": {},
   "source": [
    "* Python\n",
    "* R\n",
    "* Scala\n",
    "* Javascript\n",
    "* Julia"
   ]
  },
  {
   "cell_type": "code",
   "execution_count": null,
   "id": "29a31d9b-211d-4cc2-8f0a-1a833bc0a5bc",
   "metadata": {},
   "outputs": [],
   "source": [
    "Some of Popular Languages that DataScientists use are:"
   ]
  },
  {
   "cell_type": "markdown",
   "id": "1b5cb15c-8ea6-446b-add5-95a99d721a7a",
   "metadata": {},
   "source": [
    "1. Python\n",
    "2. R\n",
    "3. JavaScript\n"
   ]
  },
  {
   "cell_type": "code",
   "execution_count": null,
   "id": "fb271a6a-031e-4a03-93e2-a0454ed6849e",
   "metadata": {},
   "outputs": [],
   "source": [
    "Some of the commonly used libraries by Data Scientists include:"
   ]
  },
  {
   "cell_type": "markdown",
   "id": "8442b9c4-13b1-4298-94bd-fb9c5f3c889c",
   "metadata": {},
   "source": [
    "1. Pandas\n",
    "2. NumPy\n",
    "3. Matplotlib\n"
   ]
  },
  {
   "cell_type": "markdown",
   "id": "a0eb064c-5b78-474e-b7ed-b2eee495bbd5",
   "metadata": {},
   "source": [
    "_________________________        \n",
    "| **Data Science Tools**        \n",
    "________________________           \n",
    "| IBM Studio                \n",
    "________________________              \n",
    "|Jupiter Notebook              \n",
    "________________________                \n",
    "|Matplotlib                  \n",
    "________________________        \n",
    "  "
   ]
  },
  {
   "cell_type": "markdown",
   "id": "482e099e-302d-435e-b897-58f0366610a1",
   "metadata": {},
   "source": [
    "### Below are few examples of evaluating arithmatic expressions in Python."
   ]
  },
  {
   "cell_type": "code",
   "execution_count": 3,
   "id": "43c82422-2aa4-4b5a-a980-559de9398f57",
   "metadata": {},
   "outputs": [
    {
     "data": {
      "text/plain": [
       "17"
      ]
     },
     "execution_count": 3,
     "metadata": {},
     "output_type": "execute_result"
    }
   ],
   "source": [
    "# This is a simple arithmetic expression to multiply and then add integers\n",
    "\n",
    "3*4+5"
   ]
  },
  {
   "cell_type": "code",
   "execution_count": 4,
   "id": "c807fb3e-9c22-4962-b5bd-ad5ab807851f",
   "metadata": {},
   "outputs": [
    {
     "data": {
      "text/plain": [
       "3.3333333333333335"
      ]
     },
     "execution_count": 4,
     "metadata": {},
     "output_type": "execute_result"
    }
   ],
   "source": [
    "#This will convert 200 minutes to hours by dividing by 60\n",
    "\n",
    "200/60"
   ]
  },
  {
   "cell_type": "markdown",
   "id": "5d8825ba-0f2e-4cce-920a-5de4b0b26d58",
   "metadata": {},
   "source": [
    "## Author\n",
    "Bamila Sophana\n"
   ]
  },
  {
   "cell_type": "code",
   "execution_count": null,
   "id": "5723355f-7ea2-4f06-b630-3113d6c7081a",
   "metadata": {},
   "outputs": [],
   "source": []
  }
 ],
 "metadata": {
  "kernelspec": {
   "display_name": "Python [conda env:BamilaJupiter]",
   "language": "python",
   "name": "conda-env-BamilaJupiter-py"
  },
  "language_info": {
   "codemirror_mode": {
    "name": "ipython",
    "version": 3
   },
   "file_extension": ".py",
   "mimetype": "text/x-python",
   "name": "python",
   "nbconvert_exporter": "python",
   "pygments_lexer": "ipython3",
   "version": "3.13.5"
  }
 },
 "nbformat": 4,
 "nbformat_minor": 5
}
